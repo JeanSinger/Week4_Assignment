{
 "cells": [
  {
   "cell_type": "markdown",
   "id": "fd3a5677-65d2-414c-a9bc-09abd41fed33",
   "metadata": {},
   "source": [
    "# My Jupyter Notebook on IBM Watson Studio"
   ]
  },
  {
   "cell_type": "markdown",
   "id": "516bc5fa-84e8-4add-81e2-343eb6de4ff6",
   "metadata": {},
   "source": [
    "**Jean Singer**  \n",
    "Data Scientist"
   ]
  },
  {
   "cell_type": "markdown",
   "id": "36624d3f-c397-43ab-8cd4-fceaf983b731",
   "metadata": {},
   "source": [
    "*I am interested in data science because in the social sciences, it's a powerful way to gain insights on human behavior. Data science can help us to see reationships that we would not otherwise recognize.*"
   ]
  },
  {
   "cell_type": "markdown",
   "id": "c4b597a0-6684-4dbb-91a1-6840b11801ce",
   "metadata": {},
   "source": [
    "### The code in cell 5 is intended to define two variables, a and b, and add them together."
   ]
  },
  {
   "cell_type": "code",
   "execution_count": 6,
   "id": "2be0b02d-0279-4ecd-be27-1f89402d9660",
   "metadata": {},
   "outputs": [
    {
     "name": "stdout",
     "output_type": "stream",
     "text": [
      "10\n"
     ]
    }
   ],
   "source": [
    "a = 1+2\n",
    "b = 3+4\n",
    "c = a+b\n",
    "print(c)"
   ]
  },
  {
   "cell_type": "markdown",
   "id": "40ee8c5b-0ace-4bd0-a3e1-bb7cf33c0023",
   "metadata": {},
   "source": [
    "Here's a horizontal line\n",
    "\n",
    "***\n",
    "\n",
    "And here's a numbered list of the three highest Adirondack peaks:\n",
    "1. Mt. Marcy\n",
    "2. Algonquin Peak\n",
    "3. Mt. Haystack\n",
    "\n",
    "And here are the peaks in a table:\n",
    "| Order | Peak |\n",
    "| ------ | ------ |\n",
    "| 1 | Mt. Marcy |\n",
    "| 2 | Algonquin Peak |\n",
    "| 3 | Mt. Haystack |"
   ]
  }
 ],
 "metadata": {
  "kernelspec": {
   "display_name": "Python 3 (ipykernel)",
   "language": "python",
   "name": "python3"
  },
  "language_info": {
   "codemirror_mode": {
    "name": "ipython",
    "version": 3
   },
   "file_extension": ".py",
   "mimetype": "text/x-python",
   "name": "python",
   "nbconvert_exporter": "python",
   "pygments_lexer": "ipython3",
   "version": "3.11.1"
  }
 },
 "nbformat": 4,
 "nbformat_minor": 5
}
